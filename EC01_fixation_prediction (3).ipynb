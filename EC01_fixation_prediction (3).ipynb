{
 "cells": [
  {
   "cell_type": "code",
   "execution_count": 4,
   "id": "ac7e6482",
   "metadata": {},
   "outputs": [
    {
     "name": "stdout",
     "output_type": "stream",
     "text": [
      "(293, 1)\n",
      "(1, 2, 3, 293)\n"
     ]
    }
   ],
   "source": [
    "import h5py\n",
    "with h5py.File('D:\\SLEAP 172\\FixationSideCam/1201_prediction_analysis.h5', 'r') as f:\n",
    "    occupancy_matrix = f['track_occupancy'][:]\n",
    "    tracks_matrix = f['tracks'][:]\n",
    "\n",
    "print(occupancy_matrix.shape)\n",
    "print(tracks_matrix.shape)"
   ]
  },
  {
   "cell_type": "code",
   "execution_count": 5,
   "id": "b7762d95",
   "metadata": {},
   "outputs": [
    {
     "name": "stdout",
     "output_type": "stream",
     "text": [
      "===filename===\n",
      "/content/1201_prediction_analysis.h5\n",
      "\n",
      "===HDF5 datasets===\n",
      "['edge_inds', 'edge_names', 'instance_scores', 'labels_path', 'node_names', 'point_scores', 'provenance', 'track_names', 'track_occupancy', 'tracking_scores', 'tracks', 'video_ind', 'video_path']\n",
      "\n",
      "===locations data shape===\n",
      "(293, 3, 2, 1)\n",
      "\n",
      "===nodes===\n",
      "0: snout\n",
      "1: eye\n",
      "2: ear\n",
      "\n"
     ]
    }
   ],
   "source": [
    "with h5py.File( 'D:\\SLEAP 172\\FixationSideCam/1201_prediction_analysis.h5', 'r') as f:\n",
    "    dset_names = list(f.keys())\n",
    "    locations = f[\"tracks\"][:].T\n",
    "    node_names = [n.decode() for n in f[\"node_names\"][:]]\n",
    "\n",
    "print(\"===filename===\")\n",
    "print('/content/1201_prediction_analysis.h5')\n",
    "print()\n",
    "\n",
    "print(\"===HDF5 datasets===\")\n",
    "print(dset_names)\n",
    "print()\n",
    "\n",
    "print(\"===locations data shape===\")\n",
    "print(locations.shape)\n",
    "print()\n",
    "\n",
    "print(\"===nodes===\")\n",
    "for i, name in enumerate(node_names):\n",
    "    print(f\"{i}: {name}\")\n",
    "print()"
   ]
  },
  {
   "cell_type": "code",
   "execution_count": 6,
   "id": "6c122f50",
   "metadata": {
    "scrolled": true
   },
   "outputs": [
    {
     "name": "stdout",
     "output_type": "stream",
     "text": [
      "frame count: 293\n",
      "node count: 3\n",
      "instance count: 1\n"
     ]
    }
   ],
   "source": [
    "frame_count, node_count, _, instance_count = locations.shape\n",
    "\n",
    "print(\"frame count:\", frame_count)\n",
    "print(\"node count:\", node_count)\n",
    "print(\"instance count:\", instance_count)"
   ]
  },
  {
   "cell_type": "code",
   "execution_count": 10,
   "id": "dbc0a123",
   "metadata": {},
   "outputs": [
    {
     "name": "stdout",
     "output_type": "stream",
     "text": [
      "SLEAP: 1.3.4\n",
      "TensorFlow: 2.7.0\n",
      "Numpy: 1.21.6\n",
      "Python: 3.7.12\n",
      "OS: Windows-10-10.0.16299-SP0\n",
      "GPUs: 2/2 available\n",
      "  Device: /physical_device:GPU:0\n",
      "         Available: True\n",
      "        Initalized: False\n",
      "     Memory growth: True\n",
      "  Device: /physical_device:GPU:1\n",
      "         Available: True\n",
      "        Initalized: False\n",
      "     Memory growth: True\n"
     ]
    }
   ],
   "source": [
    "import sleap\n",
    "\n",
    "# This prevents TensorFlow from allocating all the GPU memory, which leads to issues on\n",
    "# some GPUs/platforms:\n",
    "sleap.disable_preallocation()\n",
    "\n",
    "# This would hide GPUs from the TensorFlow altogether:\n",
    "# sleap.use_cpu_only()\n",
    "\n",
    "# Print some info:\n",
    "sleap.versions()\n",
    "sleap.system_summary()"
   ]
  },
  {
   "cell_type": "code",
   "execution_count": 14,
   "id": "74cfd43c",
   "metadata": {},
   "outputs": [],
   "source": [
    "predictor = sleap.load_model(\"D:\\SLEAP 172\\FixationSideCam\\models/241125_012328.single_instance.zip\")"
   ]
  },
  {
   "cell_type": "code",
   "execution_count": 15,
   "id": "426d6a51",
   "metadata": {},
   "outputs": [
    {
     "data": {
      "text/html": [
       "<pre style=\"white-space:pre;overflow-x:auto;line-height:normal;font-family:Menlo,'DejaVu Sans Mono',consolas,'Courier New',monospace\">Predicting... <span style=\"color: #729c1f; text-decoration-color: #729c1f\">━━━━━━━━━━━━━━━━━━━━━━━━━━━━━━━━━━━━━━━━</span> <span style=\"color: #800080; text-decoration-color: #800080\">100%</span> ETA: <span style=\"color: #008080; text-decoration-color: #008080\">0:00:00</span> <span style=\"color: #800000; text-decoration-color: #800000\">96.9 FPS</span>\n",
       "</pre>\n"
      ],
      "text/plain": [
       "Predicting... \u001b[38;2;114;156;31m━━━━━━━━━━━━━━━━━━━━━━━━━━━━━━━━━━━━━━━━\u001b[0m \u001b[35m100%\u001b[0m ETA: \u001b[36m0:00:00\u001b[0m \u001b[31m96.9 FPS\u001b[0m\n"
      ]
     },
     "metadata": {},
     "output_type": "display_data"
    },
    {
     "data": {
      "text/html": [
       "<pre style=\"white-space:pre;overflow-x:auto;line-height:normal;font-family:Menlo,'DejaVu Sans Mono',consolas,'Courier New',monospace\"></pre>\n"
      ],
      "text/plain": []
     },
     "metadata": {},
     "output_type": "display_data"
    }
   ],
   "source": [
    "import numpy as np\n",
    "def get_predictions(filename):\n",
    "\n",
    "  video=sleap.load_video(filename)\n",
    "  total_frames=video.num_frames\n",
    "  labels = predictor.predict(video)\n",
    "\n",
    "  return labels, video\n",
    "\n",
    "labels, video =get_predictions(\"D:\\SLEAP 172\\FixationSideCam\\Videos/EC01_results_2024-11-08T10_20_2_Trial_23.avi\")"
   ]
  },
  {
   "cell_type": "code",
   "execution_count": 106,
   "id": "3d832ef5",
   "metadata": {
    "scrolled": true
   },
   "outputs": [
    {
     "ename": "IndexError",
     "evalue": "index 275 is out of bounds for axis 0 with size 1",
     "output_type": "error",
     "traceback": [
      "\u001b[1;31m---------------------------------------------------------------------------\u001b[0m",
      "\u001b[1;31mIndexError\u001b[0m                                Traceback (most recent call last)",
      "\u001b[1;32m~\\AppData\\Local\\Temp\\ipykernel_7328\\1296173313.py\u001b[0m in \u001b[0;36m<module>\u001b[1;34m\u001b[0m\n\u001b[0;32m     24\u001b[0m \u001b[1;33m\u001b[0m\u001b[0m\n\u001b[0;32m     25\u001b[0m \u001b[1;33m\u001b[0m\u001b[0m\n\u001b[1;32m---> 26\u001b[1;33m \u001b[0mget_fixation_predictions\u001b[0m\u001b[1;33m(\u001b[0m\u001b[0mx_predictions\u001b[0m\u001b[1;33m,\u001b[0m\u001b[0my_predictions\u001b[0m\u001b[1;33m,\u001b[0m\u001b[1;36m275\u001b[0m\u001b[1;33m,\u001b[0m\u001b[1;36m275\u001b[0m\u001b[1;33m)\u001b[0m\u001b[1;33m\u001b[0m\u001b[1;33m\u001b[0m\u001b[0m\n\u001b[0m",
      "\u001b[1;32m~\\AppData\\Local\\Temp\\ipykernel_7328\\1296173313.py\u001b[0m in \u001b[0;36mget_fixation_predictions\u001b[1;34m(x_predictions, y_predictions, fix_start_frame, fix_end_frame)\u001b[0m\n\u001b[0;32m     14\u001b[0m \u001b[1;33m\u001b[0m\u001b[0m\n\u001b[0;32m     15\u001b[0m     \u001b[1;32mdef\u001b[0m \u001b[0mget_fixation_predictions\u001b[0m\u001b[1;33m(\u001b[0m\u001b[0mx_predictions\u001b[0m\u001b[1;33m,\u001b[0m\u001b[0my_predictions\u001b[0m\u001b[1;33m,\u001b[0m\u001b[0mfix_start_frame\u001b[0m\u001b[1;33m,\u001b[0m \u001b[0mfix_end_frame\u001b[0m\u001b[1;33m)\u001b[0m\u001b[1;33m:\u001b[0m\u001b[1;33m\u001b[0m\u001b[1;33m\u001b[0m\u001b[0m\n\u001b[1;32m---> 16\u001b[1;33m         \u001b[0mx_start\u001b[0m\u001b[1;33m=\u001b[0m\u001b[0mx_predictions\u001b[0m\u001b[1;33m[\u001b[0m\u001b[0mfix_start_frame\u001b[0m\u001b[1;33m]\u001b[0m\u001b[1;33m\u001b[0m\u001b[1;33m\u001b[0m\u001b[0m\n\u001b[0m\u001b[0;32m     17\u001b[0m         \u001b[0mx_end\u001b[0m\u001b[1;33m=\u001b[0m\u001b[0mx_predictions\u001b[0m\u001b[1;33m[\u001b[0m\u001b[0mfix_end_frame\u001b[0m\u001b[1;33m]\u001b[0m\u001b[1;33m\u001b[0m\u001b[1;33m\u001b[0m\u001b[0m\n\u001b[0;32m     18\u001b[0m         \u001b[0my_start\u001b[0m\u001b[1;33m=\u001b[0m\u001b[0my_predictions\u001b[0m\u001b[1;33m[\u001b[0m\u001b[0mfix_start_frame\u001b[0m\u001b[1;33m]\u001b[0m\u001b[1;33m\u001b[0m\u001b[1;33m\u001b[0m\u001b[0m\n",
      "\u001b[1;32mD:\\miniconda3\\envs\\sleap\\lib\\site-packages\\numpy\\matrixlib\\defmatrix.py\u001b[0m in \u001b[0;36m__getitem__\u001b[1;34m(self, index)\u001b[0m\n\u001b[0;32m    191\u001b[0m \u001b[1;33m\u001b[0m\u001b[0m\n\u001b[0;32m    192\u001b[0m         \u001b[1;32mtry\u001b[0m\u001b[1;33m:\u001b[0m\u001b[1;33m\u001b[0m\u001b[1;33m\u001b[0m\u001b[0m\n\u001b[1;32m--> 193\u001b[1;33m             \u001b[0mout\u001b[0m \u001b[1;33m=\u001b[0m \u001b[0mN\u001b[0m\u001b[1;33m.\u001b[0m\u001b[0mndarray\u001b[0m\u001b[1;33m.\u001b[0m\u001b[0m__getitem__\u001b[0m\u001b[1;33m(\u001b[0m\u001b[0mself\u001b[0m\u001b[1;33m,\u001b[0m \u001b[0mindex\u001b[0m\u001b[1;33m)\u001b[0m\u001b[1;33m\u001b[0m\u001b[1;33m\u001b[0m\u001b[0m\n\u001b[0m\u001b[0;32m    194\u001b[0m         \u001b[1;32mfinally\u001b[0m\u001b[1;33m:\u001b[0m\u001b[1;33m\u001b[0m\u001b[1;33m\u001b[0m\u001b[0m\n\u001b[0;32m    195\u001b[0m             \u001b[0mself\u001b[0m\u001b[1;33m.\u001b[0m\u001b[0m_getitem\u001b[0m \u001b[1;33m=\u001b[0m \u001b[1;32mFalse\u001b[0m\u001b[1;33m\u001b[0m\u001b[1;33m\u001b[0m\u001b[0m\n",
      "\u001b[1;31mIndexError\u001b[0m: index 275 is out of bounds for axis 0 with size 1"
     ]
    }
   ],
   "source": [
    "import numpy as np\n",
    "\n",
    "total_frames=video.num_frames\n",
    "\n",
    "pts = labels.numpy()\n",
    "\n",
    "\n",
    "for i in range (total_frames):\n",
    "    A=np.matrix(pts[i])\n",
    "    B= A[:,0]\n",
    "    C= A[:,1]\n",
    "    x_predictions=B.transpose()\n",
    "    y_predictions=C.transpose()\n",
    "    \n",
    "    def get_fixation_predictions(x_predictions,y_predictions,fix_start_frame, fix_end_frame):\n",
    "        x_start=x_predictions[fix_start_frame]\n",
    "        x_end=x_predictions[fix_end_frame]\n",
    "        y_start=y_predictions[fix_start_frame]\n",
    "        y_end=y_predictions[fix_end_frame]\n",
    "    \n",
    "        fixation_predictions=x_start,y_start,x_end,y_end\n",
    "        print(fixation_predictions)\n",
    "    \n",
    "    \n",
    "\n",
    "get_fixation_predictions(x_predictions,y_predictions,275,275)\n"
   ]
  },
  {
   "cell_type": "code",
   "execution_count": 32,
   "id": "a5dce463",
   "metadata": {
    "scrolled": false
   },
   "outputs": [],
   "source": [
    "import pandas as pd\n",
    "Time= pd.read_csv(\"D:\\SLEAP 172\\FixationSideCam/EC01.csv\")"
   ]
  },
  {
   "cell_type": "code",
   "execution_count": 33,
   "id": "48d1f3c1",
   "metadata": {},
   "outputs": [
    {
     "data": {
      "text/html": [
       "<div>\n",
       "<style scoped>\n",
       "    .dataframe tbody tr th:only-of-type {\n",
       "        vertical-align: middle;\n",
       "    }\n",
       "\n",
       "    .dataframe tbody tr th {\n",
       "        vertical-align: top;\n",
       "    }\n",
       "\n",
       "    .dataframe thead th {\n",
       "        text-align: right;\n",
       "    }\n",
       "</style>\n",
       "<table border=\"1\" class=\"dataframe\">\n",
       "  <thead>\n",
       "    <tr style=\"text-align: right;\">\n",
       "      <th></th>\n",
       "      <th>TrialNum</th>\n",
       "      <th>FixationStarted_time</th>\n",
       "      <th>FixationCompleted_time</th>\n",
       "    </tr>\n",
       "  </thead>\n",
       "  <tbody>\n",
       "    <tr>\n",
       "      <th>18466</th>\n",
       "      <td>1</td>\n",
       "      <td>10:22:50.806412</td>\n",
       "      <td>10:22:50.847065</td>\n",
       "    </tr>\n",
       "    <tr>\n",
       "      <th>18467</th>\n",
       "      <td>2</td>\n",
       "      <td>10:23:01.846259</td>\n",
       "      <td>10:23:01.880627</td>\n",
       "    </tr>\n",
       "    <tr>\n",
       "      <th>18468</th>\n",
       "      <td>3</td>\n",
       "      <td>10:23:14.284211</td>\n",
       "      <td>10:23:14.317158</td>\n",
       "    </tr>\n",
       "    <tr>\n",
       "      <th>18469</th>\n",
       "      <td>4</td>\n",
       "      <td>10:23:33.454464</td>\n",
       "      <td>10:23:33.501145</td>\n",
       "    </tr>\n",
       "    <tr>\n",
       "      <th>18470</th>\n",
       "      <td>5</td>\n",
       "      <td>10:23:42.415872</td>\n",
       "      <td>10:23:42.465216</td>\n",
       "    </tr>\n",
       "    <tr>\n",
       "      <th>...</th>\n",
       "      <td>...</td>\n",
       "      <td>...</td>\n",
       "      <td>...</td>\n",
       "    </tr>\n",
       "    <tr>\n",
       "      <th>18682</th>\n",
       "      <td>217</td>\n",
       "      <td>11:44:18.914700</td>\n",
       "      <td>11:44:23.539084</td>\n",
       "    </tr>\n",
       "    <tr>\n",
       "      <th>18683</th>\n",
       "      <td>218</td>\n",
       "      <td>11:45:21.072614</td>\n",
       "      <td>11:45:25.695974</td>\n",
       "    </tr>\n",
       "    <tr>\n",
       "      <th>18684</th>\n",
       "      <td>219</td>\n",
       "      <td>11:48:00.458956</td>\n",
       "      <td>11:48:05.482624</td>\n",
       "    </tr>\n",
       "    <tr>\n",
       "      <th>18685</th>\n",
       "      <td>220</td>\n",
       "      <td>11:52:46.461273</td>\n",
       "      <td>11:52:51.484697</td>\n",
       "    </tr>\n",
       "    <tr>\n",
       "      <th>18686</th>\n",
       "      <td>221</td>\n",
       "      <td>NaN</td>\n",
       "      <td>NaN</td>\n",
       "    </tr>\n",
       "  </tbody>\n",
       "</table>\n",
       "<p>221 rows × 3 columns</p>\n",
       "</div>"
      ],
      "text/plain": [
       "       TrialNum FixationStarted_time FixationCompleted_time\n",
       "18466         1      10:22:50.806412        10:22:50.847065\n",
       "18467         2      10:23:01.846259        10:23:01.880627\n",
       "18468         3      10:23:14.284211        10:23:14.317158\n",
       "18469         4      10:23:33.454464        10:23:33.501145\n",
       "18470         5      10:23:42.415872        10:23:42.465216\n",
       "...         ...                  ...                    ...\n",
       "18682       217      11:44:18.914700        11:44:23.539084\n",
       "18683       218      11:45:21.072614        11:45:25.695974\n",
       "18684       219      11:48:00.458956        11:48:05.482624\n",
       "18685       220      11:52:46.461273        11:52:51.484697\n",
       "18686       221                  NaN                    NaN\n",
       "\n",
       "[221 rows x 3 columns]"
      ]
     },
     "execution_count": 33,
     "metadata": {},
     "output_type": "execute_result"
    }
   ],
   "source": [
    "def get_fixation_period(session_name):\n",
    "    filtered_data = Time[Time['sess'] == session_name]\n",
    "    fixation_period_table = pd.DataFrame(filtered_data[['TrialNum', 'FixationStarted_time', 'FixationCompleted_time']])\n",
    "\n",
    "    return fixation_period_table\n",
    "get_fixation_period('2024-11-08T10_20_28')"
   ]
  },
  {
   "cell_type": "code",
   "execution_count": 34,
   "id": "327facdd",
   "metadata": {
    "scrolled": true
   },
   "outputs": [],
   "source": [
    "import pandas as pd\n",
    "Frame=pd.read_csv('D:\\SLEAP 172\\FixationSideCam/FixationSideCam_stamps 1108.csv',delimiter=';')"
   ]
  },
  {
   "cell_type": "code",
   "execution_count": 35,
   "id": "9c750a99",
   "metadata": {},
   "outputs": [],
   "source": [
    "fixation_period_table = get_fixation_period('2024-11-08T10_20_28')"
   ]
  },
  {
   "cell_type": "code",
   "execution_count": 38,
   "id": "cefb2a97",
   "metadata": {},
   "outputs": [
    {
     "name": "stdout",
     "output_type": "stream",
     "text": [
      "275 275\n"
     ]
    }
   ],
   "source": [
    "def get_fixation_frame(i,fixation_period_table):\n",
    "  fixation_period_trial_i=fixation_period_table[fixation_period_table['TrialNum']==i]\n",
    "  fix_start_time=fixation_period_trial_i['FixationStarted_time'].iloc[0]\n",
    "  fix_end_time=fixation_period_trial_i['FixationCompleted_time'].iloc[0]\n",
    "\n",
    "  Frame['FrameTime'] = pd.to_datetime(Frame['FrameTime'])\n",
    "  fix_period = Frame.loc[(Frame['TrialNum'] == i) & (Frame['FrameTime'].between(fix_start_time, fix_end_time)), 'FrameNum']\n",
    "  fix_start_frame=fix_period.iloc[0]\n",
    "  fix_end_frame=fix_period.iloc[-1]\n",
    "\n",
    "\n",
    "  print(fix_start_frame, fix_end_frame)\n",
    "\n",
    "get_fixation_frame(23,fixation_period_table)"
   ]
  },
  {
   "cell_type": "code",
   "execution_count": 46,
   "id": "bb53b861",
   "metadata": {
    "scrolled": true
   },
   "outputs": [
    {
     "ename": "IndexError",
     "evalue": "index 275 is out of bounds for axis 0 with size 1",
     "output_type": "error",
     "traceback": [
      "\u001b[1;31m---------------------------------------------------------------------------\u001b[0m",
      "\u001b[1;31mIndexError\u001b[0m                                Traceback (most recent call last)",
      "\u001b[1;32m~\\AppData\\Local\\Temp\\ipykernel_7328\\3065863617.py\u001b[0m in \u001b[0;36m<module>\u001b[1;34m\u001b[0m\n\u001b[0;32m     11\u001b[0m \u001b[1;33m\u001b[0m\u001b[0m\n\u001b[0;32m     12\u001b[0m \u001b[1;33m\u001b[0m\u001b[0m\n\u001b[1;32m---> 13\u001b[1;33m \u001b[0mget_fixation_predictions\u001b[0m\u001b[1;33m(\u001b[0m\u001b[0mx_predictions\u001b[0m\u001b[1;33m,\u001b[0m\u001b[0my_predictions\u001b[0m\u001b[1;33m,\u001b[0m\u001b[1;36m275\u001b[0m\u001b[1;33m,\u001b[0m\u001b[1;36m275\u001b[0m\u001b[1;33m)\u001b[0m\u001b[1;33m\u001b[0m\u001b[1;33m\u001b[0m\u001b[0m\n\u001b[0m",
      "\u001b[1;32m~\\AppData\\Local\\Temp\\ipykernel_7328\\3065863617.py\u001b[0m in \u001b[0;36mget_fixation_predictions\u001b[1;34m(x_predictions, y_predictions, fix_start_frame, fix_end_frame)\u001b[0m\n\u001b[0;32m      1\u001b[0m \u001b[1;32mdef\u001b[0m \u001b[0mget_fixation_predictions\u001b[0m\u001b[1;33m(\u001b[0m\u001b[0mx_predictions\u001b[0m\u001b[1;33m,\u001b[0m\u001b[0my_predictions\u001b[0m\u001b[1;33m,\u001b[0m\u001b[0mfix_start_frame\u001b[0m\u001b[1;33m,\u001b[0m \u001b[0mfix_end_frame\u001b[0m\u001b[1;33m)\u001b[0m\u001b[1;33m:\u001b[0m\u001b[1;33m\u001b[0m\u001b[1;33m\u001b[0m\u001b[0m\n\u001b[0;32m      2\u001b[0m \u001b[1;33m\u001b[0m\u001b[0m\n\u001b[1;32m----> 3\u001b[1;33m     \u001b[0mx_start\u001b[0m\u001b[1;33m=\u001b[0m\u001b[0mx_predictions\u001b[0m\u001b[1;33m[\u001b[0m\u001b[0mfix_start_frame\u001b[0m\u001b[1;33m]\u001b[0m\u001b[1;33m\u001b[0m\u001b[1;33m\u001b[0m\u001b[0m\n\u001b[0m\u001b[0;32m      4\u001b[0m     \u001b[0mx_end\u001b[0m\u001b[1;33m=\u001b[0m\u001b[0mx_predictions\u001b[0m\u001b[1;33m[\u001b[0m\u001b[0mfix_end_frame\u001b[0m\u001b[1;33m]\u001b[0m\u001b[1;33m\u001b[0m\u001b[1;33m\u001b[0m\u001b[0m\n\u001b[0;32m      5\u001b[0m     \u001b[0my_start\u001b[0m\u001b[1;33m=\u001b[0m\u001b[0my_predictions\u001b[0m\u001b[1;33m[\u001b[0m\u001b[0mfix_start_frame\u001b[0m\u001b[1;33m]\u001b[0m\u001b[1;33m\u001b[0m\u001b[1;33m\u001b[0m\u001b[0m\n",
      "\u001b[1;32mD:\\miniconda3\\envs\\sleap\\lib\\site-packages\\numpy\\matrixlib\\defmatrix.py\u001b[0m in \u001b[0;36m__getitem__\u001b[1;34m(self, index)\u001b[0m\n\u001b[0;32m    191\u001b[0m \u001b[1;33m\u001b[0m\u001b[0m\n\u001b[0;32m    192\u001b[0m         \u001b[1;32mtry\u001b[0m\u001b[1;33m:\u001b[0m\u001b[1;33m\u001b[0m\u001b[1;33m\u001b[0m\u001b[0m\n\u001b[1;32m--> 193\u001b[1;33m             \u001b[0mout\u001b[0m \u001b[1;33m=\u001b[0m \u001b[0mN\u001b[0m\u001b[1;33m.\u001b[0m\u001b[0mndarray\u001b[0m\u001b[1;33m.\u001b[0m\u001b[0m__getitem__\u001b[0m\u001b[1;33m(\u001b[0m\u001b[0mself\u001b[0m\u001b[1;33m,\u001b[0m \u001b[0mindex\u001b[0m\u001b[1;33m)\u001b[0m\u001b[1;33m\u001b[0m\u001b[1;33m\u001b[0m\u001b[0m\n\u001b[0m\u001b[0;32m    194\u001b[0m         \u001b[1;32mfinally\u001b[0m\u001b[1;33m:\u001b[0m\u001b[1;33m\u001b[0m\u001b[1;33m\u001b[0m\u001b[0m\n\u001b[0;32m    195\u001b[0m             \u001b[0mself\u001b[0m\u001b[1;33m.\u001b[0m\u001b[0m_getitem\u001b[0m \u001b[1;33m=\u001b[0m \u001b[1;32mFalse\u001b[0m\u001b[1;33m\u001b[0m\u001b[1;33m\u001b[0m\u001b[0m\n",
      "\u001b[1;31mIndexError\u001b[0m: index 275 is out of bounds for axis 0 with size 1"
     ]
    }
   ],
   "source": [
    "def get_fixation_predictions(x_predictions,y_predictions,fix_start_frame, fix_end_frame):\n",
    "    \n",
    "    x_start=x_predictions[fix_start_frame]\n",
    "    x_end=x_predictions[fix_end_frame]\n",
    "    y_start=y_predictions[fix_start_frame]\n",
    "    y_end=y_predictions[fix_end_frame]\n",
    "    \n",
    "    fixation_predictions=x_start,y_start,x_end,y_end\n",
    "    print(fixation_predictions)\n",
    "    \n",
    "    \n",
    "\n",
    "get_fixation_predictions(x_predictions,y_predictions,275,275)"
   ]
  },
  {
   "cell_type": "code",
   "execution_count": null,
   "id": "316f7e06",
   "metadata": {},
   "outputs": [],
   "source": []
  }
 ],
 "metadata": {
  "kernelspec": {
   "display_name": "Python 3 (ipykernel)",
   "language": "python",
   "name": "python3"
  },
  "language_info": {
   "codemirror_mode": {
    "name": "ipython",
    "version": 3
   },
   "file_extension": ".py",
   "mimetype": "text/x-python",
   "name": "python",
   "nbconvert_exporter": "python",
   "pygments_lexer": "ipython3",
   "version": "3.7.12"
  }
 },
 "nbformat": 4,
 "nbformat_minor": 5
}
