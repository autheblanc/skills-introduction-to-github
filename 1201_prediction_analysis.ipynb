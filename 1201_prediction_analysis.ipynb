{
  "nbformat": 4,
  "nbformat_minor": 0,
  "metadata": {
    "colab": {
      "provenance": [],
      "authorship_tag": "ABX9TyNfy4yjGXPZxslabB6d+4rA",
      "include_colab_link": true
    },
    "kernelspec": {
      "name": "python3",
      "display_name": "Python 3"
    },
    "language_info": {
      "name": "python"
    },
    "widgets": {
      "application/vnd.jupyter.widget-state+json": {
        "2bd2bf7277f94fb39f13a95b32ab8ea1": {
          "model_module": "@jupyter-widgets/output",
          "model_name": "OutputModel",
          "model_module_version": "1.0.0",
          "state": {
            "_dom_classes": [],
            "_model_module": "@jupyter-widgets/output",
            "_model_module_version": "1.0.0",
            "_model_name": "OutputModel",
            "_view_count": null,
            "_view_module": "@jupyter-widgets/output",
            "_view_module_version": "1.0.0",
            "_view_name": "OutputView",
            "layout": "IPY_MODEL_7e36cec3c3004acea3df7cb76d9c7f58",
            "msg_id": "",
            "outputs": [
              {
                "output_type": "display_data",
                "data": {
                  "text/plain": "Predicting... \u001b[38;2;114;156;31m━━━━━━━━━━━━━━━━━━━━━━━━━━━━━━━━━━━━━━━━\u001b[0m \u001b[35m100%\u001b[0m ETA: \u001b[36m0:00:00\u001b[0m \u001b[31m1.3 FPS\u001b[0m\n",
                  "text/html": "<pre style=\"white-space:pre;overflow-x:auto;line-height:normal;font-family:Menlo,'DejaVu Sans Mono',consolas,'Courier New',monospace\">Predicting... <span style=\"color: #729c1f; text-decoration-color: #729c1f\">━━━━━━━━━━━━━━━━━━━━━━━━━━━━━━━━━━━━━━━━</span> <span style=\"color: #800080; text-decoration-color: #800080\">100%</span> ETA: <span style=\"color: #008080; text-decoration-color: #008080\">0:00:00</span> <span style=\"color: #800000; text-decoration-color: #800000\">1.3 FPS</span>\n</pre>\n"
                },
                "metadata": {}
              }
            ]
          }
        },
        "7e36cec3c3004acea3df7cb76d9c7f58": {
          "model_module": "@jupyter-widgets/base",
          "model_name": "LayoutModel",
          "model_module_version": "1.2.0",
          "state": {
            "_model_module": "@jupyter-widgets/base",
            "_model_module_version": "1.2.0",
            "_model_name": "LayoutModel",
            "_view_count": null,
            "_view_module": "@jupyter-widgets/base",
            "_view_module_version": "1.2.0",
            "_view_name": "LayoutView",
            "align_content": null,
            "align_items": null,
            "align_self": null,
            "border": null,
            "bottom": null,
            "display": null,
            "flex": null,
            "flex_flow": null,
            "grid_area": null,
            "grid_auto_columns": null,
            "grid_auto_flow": null,
            "grid_auto_rows": null,
            "grid_column": null,
            "grid_gap": null,
            "grid_row": null,
            "grid_template_areas": null,
            "grid_template_columns": null,
            "grid_template_rows": null,
            "height": null,
            "justify_content": null,
            "justify_items": null,
            "left": null,
            "margin": null,
            "max_height": null,
            "max_width": null,
            "min_height": null,
            "min_width": null,
            "object_fit": null,
            "object_position": null,
            "order": null,
            "overflow": null,
            "overflow_x": null,
            "overflow_y": null,
            "padding": null,
            "right": null,
            "top": null,
            "visibility": null,
            "width": null
          }
        }
      }
    }
  },
  "cells": [
    {
      "cell_type": "markdown",
      "metadata": {
        "id": "view-in-github",
        "colab_type": "text"
      },
      "source": [
        "<a href=\"https://colab.research.google.com/github/autheblanc/skills-introduction-to-github/blob/main/1201_prediction_analysis.ipynb\" target=\"_parent\"><img src=\"https://colab.research.google.com/assets/colab-badge.svg\" alt=\"Open In Colab\"/></a>"
      ]
    },
    {
      "cell_type": "code",
      "execution_count": 1,
      "metadata": {
        "colab": {
          "base_uri": "https://localhost:8080/"
        },
        "id": "mCUqittAev4Y",
        "outputId": "3f465a81-4360-444e-b609-732611d10d24"
      },
      "outputs": [
        {
          "output_type": "stream",
          "name": "stdout",
          "text": [
            "(293, 1)\n",
            "(1, 2, 3, 293)\n"
          ]
        }
      ],
      "source": [
        "import h5py\n",
        "with h5py.File('/content/1201_prediction_analysis.h5', 'r') as f:\n",
        "    occupancy_matrix = f['track_occupancy'][:]\n",
        "    tracks_matrix = f['tracks'][:]\n",
        "\n",
        "print(occupancy_matrix.shape)\n",
        "print(tracks_matrix.shape)"
      ]
    },
    {
      "cell_type": "code",
      "source": [
        "with h5py.File( '/content/1201_prediction_analysis.h5', 'r') as f:\n",
        "    dset_names = list(f.keys())\n",
        "    locations = f[\"tracks\"][:].T\n",
        "    node_names = [n.decode() for n in f[\"node_names\"][:]]\n",
        "\n",
        "print(\"===filename===\")\n",
        "print('/content/1201_prediction_analysis.h5')\n",
        "print()\n",
        "\n",
        "print(\"===HDF5 datasets===\")\n",
        "print(dset_names)\n",
        "print()\n",
        "\n",
        "print(\"===locations data shape===\")\n",
        "print(locations.shape)\n",
        "print()\n",
        "\n",
        "print(\"===nodes===\")\n",
        "for i, name in enumerate(node_names):\n",
        "    print(f\"{i}: {name}\")\n",
        "print()"
      ],
      "metadata": {
        "colab": {
          "base_uri": "https://localhost:8080/"
        },
        "id": "WLGF9BpK9vmS",
        "outputId": "77ad6f9e-5ff7-4c3f-8a63-8598abfceded"
      },
      "execution_count": 2,
      "outputs": [
        {
          "output_type": "stream",
          "name": "stdout",
          "text": [
            "===filename===\n",
            "/content/1201_prediction_analysis.h5\n",
            "\n",
            "===HDF5 datasets===\n",
            "['edge_inds', 'edge_names', 'instance_scores', 'labels_path', 'node_names', 'point_scores', 'provenance', 'track_names', 'track_occupancy', 'tracking_scores', 'tracks', 'video_ind', 'video_path']\n",
            "\n",
            "===locations data shape===\n",
            "(293, 3, 2, 1)\n",
            "\n",
            "===nodes===\n",
            "0: snout\n",
            "1: eye\n",
            "2: ear\n",
            "\n"
          ]
        }
      ]
    },
    {
      "cell_type": "code",
      "source": [
        "frame_count, node_count, _, instance_count = locations.shape\n",
        "\n",
        "print(\"frame count:\", frame_count)\n",
        "print(\"node count:\", node_count)\n",
        "print(\"instance count:\", instance_count)"
      ],
      "metadata": {
        "colab": {
          "base_uri": "https://localhost:8080/"
        },
        "id": "e-VFNFb_-l5m",
        "outputId": "5d077683-c7be-4f6d-9530-72de9649ec96"
      },
      "execution_count": 3,
      "outputs": [
        {
          "output_type": "stream",
          "name": "stdout",
          "text": [
            "frame count: 293\n",
            "node count: 3\n",
            "instance count: 1\n"
          ]
        }
      ]
    },
    {
      "cell_type": "code",
      "source": [
        "!pip uninstall -qqq -y opencv-python opencv-contrib-python\n",
        "!pip install -qqq \"sleap[pypi]>=1.3.3\"\n"
      ],
      "metadata": {
        "colab": {
          "base_uri": "https://localhost:8080/"
        },
        "id": "92zxCYD3BUbc",
        "outputId": "c87563a5-f1df-4cd0-aea5-70da5d61170a"
      },
      "execution_count": 4,
      "outputs": [
        {
          "output_type": "stream",
          "name": "stdout",
          "text": [
            "\u001b[33mWARNING: Skipping opencv-contrib-python as it is not installed.\u001b[0m\u001b[33m\n",
            "\u001b[0m"
          ]
        }
      ]
    },
    {
      "cell_type": "code",
      "source": [
        "# Test video:\n",
        "!wget https://storage.googleapis.com/sleap-data/reference/flies13/190719_090330_wt_18159206_rig1.2%4015000-17560.mp4\n",
        "\n",
        "# Test video labels (from predictions/not necessary for inference benchmarking):\n",
        "!wget https://storage.googleapis.com/sleap-data/reference/flies13/190719_090330_wt_18159206_rig1.2%4015000-17560.slp\n",
        "\n",
        "# Bottom-up model:\n",
        "# !wget https://storage.googleapis.com/sleap-data/reference/flies13/bu.210506_230852.multi_instance.n%3D1800.zip\n",
        "\n",
        "# Top-down model (two-stage):\n",
        "!wget https://storage.googleapis.com/sleap-data/reference/flies13/centroid.fast.210504_182918.centroid.n%3D1800.zip\n",
        "!wget https://storage.googleapis.com/sleap-data/reference/flies13/td_fast.210505_012601.centered_instance.n%3D1800.zip"
      ],
      "metadata": {
        "colab": {
          "base_uri": "https://localhost:8080/"
        },
        "id": "zIsg4EqfDr2u",
        "outputId": "d90b49f0-cbca-41a2-8239-a0459a9b0343"
      },
      "execution_count": 5,
      "outputs": [
        {
          "output_type": "stream",
          "name": "stdout",
          "text": [
            "--2024-12-02 01:53:47--  https://storage.googleapis.com/sleap-data/reference/flies13/190719_090330_wt_18159206_rig1.2%4015000-17560.mp4\n",
            "Resolving storage.googleapis.com (storage.googleapis.com)... 74.125.137.207, 142.250.101.207, 142.251.2.207, ...\n",
            "Connecting to storage.googleapis.com (storage.googleapis.com)|74.125.137.207|:443... connected.\n",
            "HTTP request sent, awaiting response... 200 OK\n",
            "Length: 85343812 (81M) [video/mp4]\n",
            "Saving to: ‘190719_090330_wt_18159206_rig1.2@15000-17560.mp4.1’\n",
            "\n",
            "190719_090330_wt_18 100%[===================>]  81.39M  46.0MB/s    in 1.8s    \n",
            "\n",
            "2024-12-02 01:53:49 (46.0 MB/s) - ‘190719_090330_wt_18159206_rig1.2@15000-17560.mp4.1’ saved [85343812/85343812]\n",
            "\n",
            "--2024-12-02 01:53:49--  https://storage.googleapis.com/sleap-data/reference/flies13/190719_090330_wt_18159206_rig1.2%4015000-17560.slp\n",
            "Resolving storage.googleapis.com (storage.googleapis.com)... 74.125.137.207, 142.250.101.207, 142.251.2.207, ...\n",
            "Connecting to storage.googleapis.com (storage.googleapis.com)|74.125.137.207|:443... connected.\n",
            "HTTP request sent, awaiting response... 200 OK\n",
            "Length: 1581400 (1.5M) [application/octet-stream]\n",
            "Saving to: ‘190719_090330_wt_18159206_rig1.2@15000-17560.slp.1’\n",
            "\n",
            "190719_090330_wt_18 100%[===================>]   1.51M  3.89MB/s    in 0.4s    \n",
            "\n",
            "2024-12-02 01:53:50 (3.89 MB/s) - ‘190719_090330_wt_18159206_rig1.2@15000-17560.slp.1’ saved [1581400/1581400]\n",
            "\n",
            "--2024-12-02 01:53:50--  https://storage.googleapis.com/sleap-data/reference/flies13/centroid.fast.210504_182918.centroid.n%3D1800.zip\n",
            "Resolving storage.googleapis.com (storage.googleapis.com)... 74.125.137.207, 142.250.101.207, 142.251.2.207, ...\n",
            "Connecting to storage.googleapis.com (storage.googleapis.com)|74.125.137.207|:443... connected.\n",
            "HTTP request sent, awaiting response... 200 OK\n",
            "Length: 6372537 (6.1M) [application/zip]\n",
            "Saving to: ‘centroid.fast.210504_182918.centroid.n=1800.zip.1’\n",
            "\n",
            "centroid.fast.21050 100%[===================>]   6.08M  9.99MB/s    in 0.6s    \n",
            "\n",
            "2024-12-02 01:53:51 (9.99 MB/s) - ‘centroid.fast.210504_182918.centroid.n=1800.zip.1’ saved [6372537/6372537]\n",
            "\n",
            "--2024-12-02 01:53:51--  https://storage.googleapis.com/sleap-data/reference/flies13/td_fast.210505_012601.centered_instance.n%3D1800.zip\n",
            "Resolving storage.googleapis.com (storage.googleapis.com)... 74.125.137.207, 142.250.101.207, 142.251.2.207, ...\n",
            "Connecting to storage.googleapis.com (storage.googleapis.com)|74.125.137.207|:443... connected.\n",
            "HTTP request sent, awaiting response... 200 OK\n",
            "Length: 30775963 (29M) [application/zip]\n",
            "Saving to: ‘td_fast.210505_012601.centered_instance.n=1800.zip.1’\n",
            "\n",
            "td_fast.210505_0126 100%[===================>]  29.35M  32.4MB/s    in 0.9s    \n",
            "\n",
            "2024-12-02 01:53:53 (32.4 MB/s) - ‘td_fast.210505_012601.centered_instance.n=1800.zip.1’ saved [30775963/30775963]\n",
            "\n"
          ]
        }
      ]
    },
    {
      "cell_type": "code",
      "source": [
        "!ls -lah"
      ],
      "metadata": {
        "colab": {
          "base_uri": "https://localhost:8080/"
        },
        "id": "9N2YC1KwDvn1",
        "outputId": "ae46ea65-303b-449f-ac6c-20366fc42089"
      },
      "execution_count": 6,
      "outputs": [
        {
          "output_type": "stream",
          "name": "stdout",
          "text": [
            "total 295M\n",
            "drwxr-xr-x 1 root root 4.0K Dec  2 01:53  .\n",
            "drwxr-xr-x 1 root root 4.0K Dec  2 01:22  ..\n",
            "-rw-r--r-- 1 root root  26K Dec  2 01:24  1201_prediction_analysis.h5\n",
            "-rw-r--r-- 1 root root  82M May 20  2021  190719_090330_wt_18159206_rig1.2@15000-17560.mp4\n",
            "-rw-r--r-- 1 root root  82M May 20  2021  190719_090330_wt_18159206_rig1.2@15000-17560.mp4.1\n",
            "-rw-r--r-- 1 root root 1.6M May 20  2021  190719_090330_wt_18159206_rig1.2@15000-17560.slp\n",
            "-rw-r--r-- 1 root root 1.6M May 20  2021  190719_090330_wt_18159206_rig1.2@15000-17560.slp.1\n",
            "-rw-r--r-- 1 root root  59M Dec  2 01:39  241125_012328.single_instance.zip\n",
            "-rw-r--r-- 1 root root 6.1M May 20  2021 'centroid.fast.210504_182918.centroid.n=1800.zip'\n",
            "-rw-r--r-- 1 root root 6.1M May 20  2021 'centroid.fast.210504_182918.centroid.n=1800.zip.1'\n",
            "drwxr-xr-x 4 root root 4.0K Nov 25 19:13  .config\n",
            "drwxr-xr-x 1 root root 4.0K Nov 25 19:13  sample_data\n",
            "-rw-r--r-- 1 root root  30M May 20  2021 'td_fast.210505_012601.centered_instance.n=1800.zip'\n",
            "-rw-r--r-- 1 root root  30M May 20  2021 'td_fast.210505_012601.centered_instance.n=1800.zip.1'\n"
          ]
        }
      ]
    },
    {
      "cell_type": "code",
      "source": [
        "import sleap\n",
        "\n",
        "# This prevents TensorFlow from allocating all the GPU memory, which leads to issues on\n",
        "# some GPUs/platforms:\n",
        "sleap.disable_preallocation()\n",
        "\n",
        "# This would hide GPUs from the TensorFlow altogether:\n",
        "# sleap.use_cpu_only()\n",
        "\n",
        "# Print some info:\n",
        "sleap.versions()\n",
        "sleap.system_summary()c"
      ],
      "metadata": {
        "colab": {
          "base_uri": "https://localhost:8080/"
        },
        "id": "e7OrGJbuC3-I",
        "outputId": "78fa67dc-a8e0-4622-dd5c-79c58dc68153"
      },
      "execution_count": 9,
      "outputs": [
        {
          "output_type": "stream",
          "name": "stdout",
          "text": [
            "SLEAP: 1.3.4\n",
            "TensorFlow: 2.8.4\n",
            "Numpy: 1.22.4\n",
            "Python: 3.10.12\n",
            "OS: Linux-6.1.85+-x86_64-with-glibc2.35\n",
            "GPUs: None detected.\n"
          ]
        }
      ]
    },
    {
      "cell_type": "code",
      "source": [
        "# Videos can be represented agnostic to the backend format\n",
        "video = sleap.load_video(\"/content/EC01_results_2024-11-08T10_20_2_Trial_23.avi\")\n",
        "\n",
        "# sleap.Video objects have a numpy-like interface:\n",
        "print(video.shape)\n",
        "\n",
        "# And we can load images in the video using array indexing:\n",
        "imgs = video[:4]\n",
        "print(imgs.shape, imgs.dtype)"
      ],
      "metadata": {
        "colab": {
          "base_uri": "https://localhost:8080/"
        },
        "id": "tGib0NqFE8EY",
        "outputId": "7ad58cf8-c8c5-4d85-9a0f-2de2ced800c3"
      },
      "execution_count": 10,
      "outputs": [
        {
          "output_type": "stream",
          "name": "stdout",
          "text": [
            "(503, 480, 640, 3)\n",
            "(4, 480, 640, 3) uint8\n"
          ]
        }
      ]
    },
    {
      "cell_type": "code",
      "source": [
        "predictor = sleap.load_model(\"/content/241125_012328.single_instance.zip\")"
      ],
      "metadata": {
        "colab": {
          "base_uri": "https://localhost:8080/"
        },
        "id": "RqpKuFTwA8I6",
        "outputId": "c183ab74-449f-4fbb-ce9c-449e8424b43c"
      },
      "execution_count": 11,
      "outputs": [
        {
          "output_type": "stream",
          "name": "stderr",
          "text": [
            "/usr/local/lib/python3.10/dist-packages/networkx/readwrite/json_graph/node_link.py:287: FutureWarning: \n",
            "The default value will be changed to `edges=\"edges\" in NetworkX 3.6.\n",
            "\n",
            "To make this warning go away, explicitly set the edges kwarg, e.g.:\n",
            "\n",
            "  nx.node_link_graph(data, edges=\"links\") to preserve current behavior, or\n",
            "  nx.node_link_graph(data, edges=\"edges\") for forward compatibility.\n",
            "  warnings.warn(\n"
          ]
        }
      ]
    },
    {
      "cell_type": "code",
      "source": [
        "labels = predictor.predict(video)\n",
        "labels"
      ],
      "metadata": {
        "colab": {
          "base_uri": "https://localhost:8080/",
          "height": 51,
          "referenced_widgets": [
            "2bd2bf7277f94fb39f13a95b32ab8ea1",
            "7e36cec3c3004acea3df7cb76d9c7f58"
          ]
        },
        "id": "KXFSkKek-vYM",
        "outputId": "c424d4f7-a393-465c-a372-0b2f6e491710"
      },
      "execution_count": 12,
      "outputs": [
        {
          "output_type": "display_data",
          "data": {
            "text/plain": [
              "Output()"
            ],
            "application/vnd.jupyter.widget-view+json": {
              "version_major": 2,
              "version_minor": 0,
              "model_id": "2bd2bf7277f94fb39f13a95b32ab8ea1"
            }
          },
          "metadata": {}
        },
        {
          "output_type": "display_data",
          "data": {
            "text/plain": [],
            "text/html": [
              "<pre style=\"white-space:pre;overflow-x:auto;line-height:normal;font-family:Menlo,'DejaVu Sans Mono',consolas,'Courier New',monospace\"></pre>\n"
            ]
          },
          "metadata": {}
        },
        {
          "output_type": "display_data",
          "data": {
            "text/plain": [
              "\n"
            ],
            "text/html": [
              "<pre style=\"white-space:pre;overflow-x:auto;line-height:normal;font-family:Menlo,'DejaVu Sans Mono',consolas,'Courier New',monospace\">\n",
              "</pre>\n"
            ]
          },
          "metadata": {}
        },
        {
          "output_type": "execute_result",
          "data": {
            "text/plain": [
              "Labels(labeled_frames=503, videos=1, skeletons=1, tracks=0)"
            ]
          },
          "metadata": {},
          "execution_count": 12
        }
      ]
    },
    {
      "cell_type": "code",
      "source": [
        "labels.videos"
      ],
      "metadata": {
        "colab": {
          "base_uri": "https://localhost:8080/"
        },
        "id": "aqcxEy-3FwHg",
        "outputId": "3fc7c61e-fee8-42da-9701-e87ac33f6ffd"
      },
      "execution_count": 13,
      "outputs": [
        {
          "output_type": "execute_result",
          "data": {
            "text/plain": [
              "[Video(backend=MediaVideo(filename='/content/EC01_results_2024-11-08T10_20_2_Trial_23.avi', grayscale=False, bgr=True, dataset='', input_format='channels_last'))]"
            ]
          },
          "metadata": {},
          "execution_count": 13
        }
      ]
    },
    {
      "cell_type": "code",
      "source": [
        "labels.skeletons"
      ],
      "metadata": {
        "colab": {
          "base_uri": "https://localhost:8080/"
        },
        "id": "v_ygM_uMFyJF",
        "outputId": "b8811f7e-4f93-459c-c0d0-acb274cd8fdf"
      },
      "execution_count": 14,
      "outputs": [
        {
          "output_type": "execute_result",
          "data": {
            "text/plain": [
              "[Skeleton(name='Skeleton-3', description='None', nodes=['snout', 'eye', 'ear'], edges=[], symmetries=[])]"
            ]
          },
          "metadata": {},
          "execution_count": 14
        }
      ]
    },
    {
      "cell_type": "code",
      "source": [
        "labeled_frame = labels\n",
        "labeled_frame"
      ],
      "metadata": {
        "colab": {
          "base_uri": "https://localhost:8080/"
        },
        "id": "Hq_TWaBJF4jJ",
        "outputId": "e54fe22c-c963-4659-b79a-e6457b37bda6"
      },
      "execution_count": 21,
      "outputs": [
        {
          "output_type": "execute_result",
          "data": {
            "text/plain": [
              "Labels(labeled_frames=503, videos=1, skeletons=1, tracks=0)"
            ]
          },
          "metadata": {},
          "execution_count": 21
        }
      ]
    },
    {
      "cell_type": "code",
      "source": [
        "labeled_frame.instances"
      ],
      "metadata": {
        "colab": {
          "base_uri": "https://localhost:8080/",
          "height": 187
        },
        "id": "QYokwDPYF5ZN",
        "outputId": "3e6873e1-89bb-42d0-eb43-54cd4eca98f4"
      },
      "execution_count": 27,
      "outputs": [
        {
          "output_type": "execute_result",
          "data": {
            "text/plain": [
              "<bound method Labels.instances of Labels(labeled_frames=503, videos=1, skeletons=1, tracks=0)>"
            ],
            "text/html": [
              "<div style=\"max-width:800px; border: 1px solid var(--colab-border-color);\"><style>\n",
              "      pre.function-repr-contents {\n",
              "        overflow-x: auto;\n",
              "        padding: 8px 12px;\n",
              "        max-height: 500px;\n",
              "      }\n",
              "\n",
              "      pre.function-repr-contents.function-repr-contents-collapsed {\n",
              "        cursor: pointer;\n",
              "        max-height: 100px;\n",
              "      }\n",
              "    </style>\n",
              "    <pre style=\"white-space: initial; background:\n",
              "         var(--colab-secondary-surface-color); padding: 8px 12px;\n",
              "         border-bottom: 1px solid var(--colab-border-color);\"><b>sleap.io.dataset.Labels.instances</b><br/>def instances(video: Optional[Video]=None, skeleton: Optional[Skeleton]=None)</pre><pre class=\"function-repr-contents function-repr-contents-collapsed\" style=\"\"><a class=\"filepath\" style=\"display:none\" href=\"#\">/usr/local/lib/python3.10/dist-packages/sleap/io/dataset.py</a>Iterate over instances in the labels, optionally with filters.\n",
              "\n",
              "Args:\n",
              "    video: Only iterate through instances in this video\n",
              "    skeleton: Only iterate through instances with this skeleton\n",
              "\n",
              "Yields:\n",
              "    Instance: The next labeled instance</pre>\n",
              "      <script>\n",
              "      if (google.colab.kernel.accessAllowed && google.colab.files && google.colab.files.view) {\n",
              "        for (const element of document.querySelectorAll('.filepath')) {\n",
              "          element.style.display = 'block'\n",
              "          element.onclick = (event) => {\n",
              "            event.preventDefault();\n",
              "            event.stopPropagation();\n",
              "            google.colab.files.view(element.textContent, 1156);\n",
              "          };\n",
              "        }\n",
              "      }\n",
              "      for (const element of document.querySelectorAll('.function-repr-contents')) {\n",
              "        element.onclick = (event) => {\n",
              "          event.preventDefault();\n",
              "          event.stopPropagation();\n",
              "          element.classList.toggle('function-repr-contents-collapsed');\n",
              "        };\n",
              "      }\n",
              "      </script>\n",
              "      </div>"
            ]
          },
          "metadata": {},
          "execution_count": 27
        }
      ]
    },
    {
      "cell_type": "code",
      "source": [
        "instance = labeled_frame  # shortcut for labeled_frame.instances[0]\n",
        "instance"
      ],
      "metadata": {
        "colab": {
          "base_uri": "https://localhost:8080/"
        },
        "id": "AUwIv4igF7zW",
        "outputId": "b3df14c5-e67e-4e67-9442-1317579bab34"
      },
      "execution_count": 31,
      "outputs": [
        {
          "output_type": "execute_result",
          "data": {
            "text/plain": [
              "Labels(labeled_frames=503, videos=1, skeletons=1, tracks=0)"
            ]
          },
          "metadata": {},
          "execution_count": 31
        }
      ]
    },
    {
      "cell_type": "code",
      "source": [
        "pts = instance.numpy()\n",
        "print(pts)"
      ],
      "metadata": {
        "colab": {
          "base_uri": "https://localhost:8080/"
        },
        "id": "yIFOh2L0GArS",
        "outputId": "512306d4-bedd-488a-be25-ff9e556c890c"
      },
      "execution_count": 33,
      "outputs": [
        {
          "output_type": "stream",
          "name": "stdout",
          "text": [
            "[[[[620.3184  267.8072 ]\n",
            "   [600.14667 248.22794]\n",
            "   [568.1183  239.43674]]]\n",
            "\n",
            "\n",
            " [[[620.3187  267.79874]\n",
            "   [600.1289  248.23192]\n",
            "   [568.0957  239.46967]]]\n",
            "\n",
            "\n",
            " [[[620.3054  267.83078]\n",
            "   [600.1061  248.2154 ]\n",
            "   [568.0035  239.3862 ]]]\n",
            "\n",
            "\n",
            " ...\n",
            "\n",
            "\n",
            " [[[623.9064  267.9637 ]\n",
            "   [603.66077 251.97357]\n",
            "   [567.9694  243.95343]]]\n",
            "\n",
            "\n",
            " [[[623.89777 267.9253 ]\n",
            "   [603.63385 251.92723]\n",
            "   [567.8862  243.95735]]]\n",
            "\n",
            "\n",
            " [[[623.84393 267.9788 ]\n",
            "   [603.6308  251.96356]\n",
            "   [567.92523 243.97899]]]]\n"
          ]
        }
      ]
    }
  ]
}